{
 "cells": [
  {
   "cell_type": "code",
   "execution_count": 1,
   "metadata": {},
   "outputs": [],
   "source": [
    "import numpy as np\n",
    "def Fungsi(x):\n",
    "    return x*x*x"
   ]
  },
  {
   "cell_type": "code",
   "execution_count": 5,
   "metadata": {},
   "outputs": [],
   "source": [
    "batas_awal = 2\n",
    "batas_akhir = 10\n",
    "n = 4\n",
    "deltaX = (batas_akhir - batas_awal)/n\n",
    "Hasil = 0"
   ]
  },
  {
   "cell_type": "code",
   "execution_count": 7,
   "metadata": {},
   "outputs": [
    {
     "name": "stdout",
     "output_type": "stream",
     "text": [
      "551.1111111111111\n"
     ]
    }
   ],
   "source": [
    "koef = [4,2]\n",
    "index = -1\n",
    "for i in np.arange(batas_awal,batas_akhir + deltaX,deltaX):\n",
    "    if i == batas_awal:\n",
    "        Hasil = Hasil + Fungsi(i)\n",
    "    elif i != batas_akhir and i != batas_awal :\n",
    "        Hasil += koef[index]*Fungsi(i)\n",
    "        print(koef[index])\n",
    "    else:\n",
    "        Hasil += Fungsi(i)\n",
    "    koef.append(4)\n",
    "    koef.append(2)\n",
    "    index = index + 1\n",
    "Hasil = Hasil*(deltaX/3)\n",
    "print(Hasil)"
   ]
  }
 ],
 "metadata": {
  "interpreter": {
   "hash": "40d3a090f54c6569ab1632332b64b2c03c39dcf918b08424e98f38b5ae0af88f"
  },
  "kernelspec": {
   "display_name": "Python 3.9.7 ('base')",
   "language": "python",
   "name": "python3"
  },
  "language_info": {
   "codemirror_mode": {
    "name": "ipython",
    "version": 3
   },
   "file_extension": ".py",
   "mimetype": "text/x-python",
   "name": "python",
   "nbconvert_exporter": "python",
   "pygments_lexer": "ipython3",
   "version": "3.9.7"
  },
  "orig_nbformat": 4
 },
 "nbformat": 4,
 "nbformat_minor": 2
}
