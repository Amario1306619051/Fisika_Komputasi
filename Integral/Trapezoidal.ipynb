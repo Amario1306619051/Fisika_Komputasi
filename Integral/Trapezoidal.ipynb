{
 "cells": [
  {
   "cell_type": "markdown",
   "metadata": {},
   "source": [
    "<h1>1. Mendefinisikan Fungsi<h1>"
   ]
  },
  {
   "cell_type": "code",
   "execution_count": 1,
   "metadata": {},
   "outputs": [],
   "source": [
    "import numpy as np\n",
    "def Fungsi(x):\n",
    "    return 5*(np.exp(3*x))*(np.sin(4*x))\n",
    "\n"
   ]
  },
  {
   "cell_type": "markdown",
   "metadata": {},
   "source": [
    "<h1>2. Menentukan batas awal</h1>\n",
    "<h1>3. Menentukan batas akhir</h1>\n",
    "<h1>4. n nya mau berapa</h1>"
   ]
  },
  {
   "cell_type": "code",
   "execution_count": 25,
   "metadata": {},
   "outputs": [],
   "source": [
    "batas_awal = 0\n",
    "batas_akhir = 10\n",
    "n = 1500\n",
    "deltaX = (batas_akhir - batas_awal)/n\n",
    "Hasil = 0\n",
    "\n",
    "import numpy as np"
   ]
  },
  {
   "cell_type": "code",
   "execution_count": 26,
   "metadata": {},
   "outputs": [
    {
     "name": "stdout",
     "output_type": "stream",
     "text": [
      "333.33340740740766\n"
     ]
    }
   ],
   "source": [
    "for i in np.arange(batas_awal,batas_akhir + deltaX,deltaX):\n",
    "    if i == batas_awal:\n",
    "        Hasil = Hasil + Fungsi(i)\n",
    "    elif i != batas_akhir and i != batas_awal:\n",
    "        Hasil += 2*Fungsi(i)\n",
    "    else:\n",
    "        Hasil += Fungsi(i)\n",
    "\n",
    "Hasil = Hasil*(deltaX/2)\n",
    "print(Hasil)\n",
    "\n",
    "    \n",
    "\n",
    "    "
   ]
  },
  {
   "cell_type": "code",
   "execution_count": null,
   "metadata": {},
   "outputs": [],
   "source": []
  }
 ],
 "metadata": {
  "interpreter": {
   "hash": "40d3a090f54c6569ab1632332b64b2c03c39dcf918b08424e98f38b5ae0af88f"
  },
  "kernelspec": {
   "display_name": "Python 3.9.7 ('base')",
   "language": "python",
   "name": "python3"
  },
  "language_info": {
   "codemirror_mode": {
    "name": "ipython",
    "version": 3
   },
   "file_extension": ".py",
   "mimetype": "text/x-python",
   "name": "python",
   "nbconvert_exporter": "python",
   "pygments_lexer": "ipython3",
   "version": "3.9.7"
  },
  "orig_nbformat": 4
 },
 "nbformat": 4,
 "nbformat_minor": 2
}
