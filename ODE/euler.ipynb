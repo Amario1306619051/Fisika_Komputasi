{
 "cells": [
  {
   "cell_type": "markdown",
   "metadata": {},
   "source": [
    "1. Ketahui Fungsi turunan dan definisikan\n"
   ]
  },
  {
   "cell_type": "code",
   "execution_count": 4,
   "metadata": {},
   "outputs": [],
   "source": [
    "def Fungsi(x,y):\n",
    "    return 3*x*x*y"
   ]
  },
  {
   "cell_type": "markdown",
   "metadata": {},
   "source": [
    "2. Tentukan kondisi awal\n",
    "3. tentukan selang (h)\n",
    "4. Tentukan batas akhir"
   ]
  },
  {
   "cell_type": "code",
   "execution_count": 6,
   "metadata": {},
   "outputs": [
    {
     "name": "stdout",
     "output_type": "stream",
     "text": [
      "1.2\n",
      "1.42\n",
      "1.66\n",
      "1.92\n",
      "2.2\n"
     ]
    }
   ],
   "source": [
    "import numpy as np\n",
    "h = 0.1\n",
    "x = 1\n",
    "y = 2\n",
    "final = 1.1\n",
    "\n",
    "for i in np.arange(x,final,h):\n",
    "    y = y + h*Fungsi(i)\n",
    "    print(y)"
   ]
  }
 ],
 "metadata": {
  "interpreter": {
   "hash": "40d3a090f54c6569ab1632332b64b2c03c39dcf918b08424e98f38b5ae0af88f"
  },
  "kernelspec": {
   "display_name": "Python 3.9.7 ('base')",
   "language": "python",
   "name": "python3"
  },
  "language_info": {
   "codemirror_mode": {
    "name": "ipython",
    "version": 3
   },
   "file_extension": ".py",
   "mimetype": "text/x-python",
   "name": "python",
   "nbconvert_exporter": "python",
   "pygments_lexer": "ipython3",
   "version": "3.9.7"
  },
  "orig_nbformat": 4
 },
 "nbformat": 4,
 "nbformat_minor": 2
}
