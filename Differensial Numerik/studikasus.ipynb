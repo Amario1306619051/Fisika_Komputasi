{
 "cells": [
  {
   "cell_type": "markdown",
   "metadata": {},
   "source": [
    "<h2> Studi kasus kecepatan mobil <h2>\n"
   ]
  },
  {
   "cell_type": "markdown",
   "metadata": {},
   "source": [
    "<hr>\n",
    "<br>\n",
    "Mendefinisikan fungsi posisi"
   ]
  },
  {
   "cell_type": "code",
   "execution_count": 4,
   "metadata": {},
   "outputs": [
    {
     "data": {
      "text/plain": [
       "3"
      ]
     },
     "execution_count": 4,
     "metadata": {},
     "output_type": "execute_result"
    }
   ],
   "source": [
    "def FungsiPosisi(t):\n",
    "    return 5*t*t - 10*t + 3\n",
    "\n",
    "FungsiPosisi(0) #3"
   ]
  },
  {
   "cell_type": "markdown",
   "metadata": {},
   "source": [
    "<ol>\n",
    "  <li> tentukan point dan deltaX\n",
    "  <li> gunakan FD, CD, atau BD\n",
    "</ol>"
   ]
  },
  {
   "cell_type": "code",
   "execution_count": 10,
   "metadata": {},
   "outputs": [],
   "source": [
    "deltaX = 0.001\n",
    "point1 = 1\n",
    "point2 = 2\n",
    "point3 = 3\n",
    "point4 = 4\n",
    "point5 = 5"
   ]
  },
  {
   "cell_type": "code",
   "execution_count": 9,
   "metadata": {},
   "outputs": [
    {
     "name": "stdout",
     "output_type": "stream",
     "text": [
      "Kecepatan pada titik ke  1  adalah  8.881784197001252e-14\n",
      "Kecepatan pada titik ke {point1} adalah  19.999999999999574\n",
      "Kecepatan pada titik ke {point1} adalah  39.99999999999915\n",
      "Kecepatan pada titik ke {point1} adalah  59.99999999999801\n",
      "Kecepatan pada titik ke {point1} adalah  79.99999999999687\n"
     ]
    }
   ],
   "source": [
    "F = ((FungsiPosisi(point1 + deltaX) - FungsiPosisi(point1 - deltaX)))/deltaX\n",
    "print('Kecepatan pada titik ke ',point1,' adalah ', F)\n",
    "F = ((FungsiPosisi(point2 + deltaX) - FungsiPosisi(point2 - deltaX)))/deltaX\n",
    "print('Kecepatan pada titik ke {point1} adalah ', F)\n",
    "F = ((FungsiPosisi(point3 + deltaX) - FungsiPosisi(point3 - deltaX)))/deltaX\n",
    "print('Kecepatan pada titik ke {point1} adalah ', F)\n",
    "F = ((FungsiPosisi(point4 + deltaX) - FungsiPosisi(point4 - deltaX)))/deltaX\n",
    "print('Kecepatan pada titik ke {point1} adalah ', F)\n",
    "F = ((FungsiPosisi(point5 + deltaX) - FungsiPosisi(point5 - deltaX)))/deltaX\n",
    "print('Kecepatan pada titik ke {point1} adalah ', F)"
   ]
  },
  {
   "cell_type": "code",
   "execution_count": 12,
   "metadata": {},
   "outputs": [
    {
     "name": "stdout",
     "output_type": "stream",
     "text": [
      "0\n",
      "1\n",
      "2\n",
      "3\n",
      "4\n",
      "5\n",
      "6\n"
     ]
    }
   ],
   "source": [
    "deltaX = 0.1\n",
    "titikMaksimal = 5\n",
    "\n",
    "for point in range(0,  titikMaksimal + 1):\n",
    "    F = ((FungsiPosisi(point + deltaX) - FungsiPosisi(point - deltaX)))/deltaX\n",
    "    print('Kecepatan pada titik ke ',point,' adalah ', F)"
   ]
  }
 ],
 "metadata": {
  "interpreter": {
   "hash": "40d3a090f54c6569ab1632332b64b2c03c39dcf918b08424e98f38b5ae0af88f"
  },
  "kernelspec": {
   "display_name": "Python 3.9.7 ('base')",
   "language": "python",
   "name": "python3"
  },
  "language_info": {
   "codemirror_mode": {
    "name": "ipython",
    "version": 3
   },
   "file_extension": ".py",
   "mimetype": "text/x-python",
   "name": "python",
   "nbconvert_exporter": "python",
   "pygments_lexer": "ipython3",
   "version": "3.9.7"
  },
  "orig_nbformat": 4
 },
 "nbformat": 4,
 "nbformat_minor": 2
}
